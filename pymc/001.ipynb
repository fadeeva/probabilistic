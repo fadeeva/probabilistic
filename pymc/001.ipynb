{
  "nbformat": 4,
  "nbformat_minor": 0,
  "metadata": {
    "colab": {
      "provenance": [],
      "mount_file_id": "https://github.com/fadeeva/probabilistic/blob/master/pymc/001.ipynb",
      "authorship_tag": "ABX9TyNU06RjakcyA/rJgNH86Ozg"
    },
    "kernelspec": {
      "name": "python3",
      "display_name": "Python 3"
    },
    "language_info": {
      "name": "python"
    }
  },
  "cells": [
    {
      "cell_type": "code",
      "execution_count": null,
      "metadata": {
        "id": "Kah61Qw3cyz6"
      },
      "outputs": [],
      "source": [
        "import numpy as np\n",
        "import pandas as pd\n",
        "\n",
        "import scipy as sp\n",
        "import scipy.stats as stats\n",
        "\n",
        "import arviz as az\n",
        "import pymc as pm\n",
        "\n",
        "import matplotlib.pyplot as plt\n",
        "import seaborn as sns\n",
        "\n",
        "plt.style.use('ggplot')"
      ]
    },
    {
      "cell_type": "markdown",
      "source": [
        "## Data"
      ],
      "metadata": {
        "id": "We7-xCs-iSya"
      }
    },
    {
      "cell_type": "code",
      "source": [
        "import pickle as pk\n",
        "\n",
        "path = 'drive/MyDrive/DATA/'\n",
        "file_name = 'data_sharks.pickle'\n",
        "\n",
        "with open(path+file_name, 'rb') as f:\n",
        "    data = pk.load(f)\n",
        "\n",
        "data.keys()"
      ],
      "metadata": {
        "id": "om8WIeyQlOyD"
      },
      "execution_count": null,
      "outputs": []
    },
    {
      "cell_type": "markdown",
      "source": [
        "## EDA"
      ],
      "metadata": {
        "id": "gzQjuTqtqUs9"
      }
    },
    {
      "cell_type": "code",
      "source": [
        "outs_len = {key:[len(i) for i in data[key]['outs']] for key in data.keys()}\n",
        "inps_len = {key:[len(i) for i in data[key]['inputs']] for key in data.keys()}"
      ],
      "metadata": {
        "id": "DSWkyj77Elsj"
      },
      "execution_count": null,
      "outputs": []
    },
    {
      "cell_type": "code",
      "source": [
        "fit, axs = plt.subplots(1, len(outs_len.keys()), figsize=(21, 3))\n",
        "\n",
        "for i, shark in enumerate(outs_len.keys()):\n",
        "    axs[i].violinplot(outs_len[shark], showmeans=True, showmedians=True)\n",
        "    axs[i].set_title(shark)"
      ],
      "metadata": {
        "id": "8ukomjGqaDSV"
      },
      "execution_count": null,
      "outputs": []
    },
    {
      "cell_type": "markdown",
      "source": [
        "## Model"
      ],
      "metadata": {
        "id": "fcBer783cOqg"
      }
    },
    {
      "cell_type": "code",
      "source": [
        "outs = np.array([x for xs in list(outs_len.values()) for x in xs])\n",
        "categories_o = np.array(list(data.keys()))\n",
        "idx_o = pd.Categorical([key for key, val in outs_len.items() for i in val], categories_o).codes\n",
        "groups_o = len(np.unique(idx_o))"
      ],
      "metadata": {
        "id": "0aazKEy2eT0t"
      },
      "execution_count": null,
      "outputs": []
    },
    {
      "cell_type": "code",
      "source": [
        "az.plot_forest(outs_len, kind='ridgeplot', hdi_prob=1);"
      ],
      "metadata": {
        "id": "e81-Fa52ej7r"
      },
      "execution_count": null,
      "outputs": []
    },
    {
      "cell_type": "code",
      "source": [
        "idx_o"
      ],
      "metadata": {
        "id": "x7Qa5lnnkiEx"
      },
      "execution_count": null,
      "outputs": []
    },
    {
      "cell_type": "code",
      "source": [
        "with pm.Model() as comparing_groups_outs:\n",
        "    μ = pm.HalfNormal('μ', sigma=5, shape=groups_o)\n",
        "    σ = pm.HalfNormal('σ', sigma=1, shape=groups_o)\n",
        "\n",
        "    y = pm.Gamma('y', mu=μ[idx_o], sigma=σ[idx_o], observed=outs)\n",
        "\n",
        "    idata_o = pm.sample()\n",
        "\n",
        "az.plot_trace(idata_o)"
      ],
      "metadata": {
        "id": "Vj9CP3R_h-B6"
      },
      "execution_count": null,
      "outputs": []
    },
    {
      "cell_type": "code",
      "source": [
        "inputs = np.array([x for xs in list(inps_len.values()) for x in xs])\n",
        "categories_i = np.array(list(data.keys()))\n",
        "idx_i = pd.Categorical([key for key, val in inps_len.items() for i in val], categories_i).codes\n",
        "groups_i = len(np.unique(idx_i))"
      ],
      "metadata": {
        "id": "LVMY6B-RfMhD"
      },
      "execution_count": null,
      "outputs": []
    },
    {
      "cell_type": "code",
      "source": [
        "# ERROR. I have no idea why.\n",
        "# with pm.Model() as comparing_groups_inputs:\n",
        "#     μ = pm.HalfNormal('μ', sigma=5, shape=groups_i)\n",
        "#     σ = pm.HalfNormal('σ', sigma=1, shape=groups_i)\n",
        "\n",
        "#     y = pm.Gamma('y', mu=μ[idx_i], sigma=σ[idx_i], observed=inputs)\n",
        "\n",
        "#     idata_i = pm.sample()\n",
        "\n",
        "# az.plot_trace(idata_i)"
      ],
      "metadata": {
        "id": "MAfhgvpBoHzV"
      },
      "execution_count": null,
      "outputs": []
    },
    {
      "cell_type": "code",
      "source": [],
      "metadata": {
        "id": "VRSf9KE6kfE0"
      },
      "execution_count": null,
      "outputs": []
    }
  ]
}