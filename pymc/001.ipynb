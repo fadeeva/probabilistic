{
  "nbformat": 4,
  "nbformat_minor": 0,
  "metadata": {
    "colab": {
      "provenance": [],
      "mount_file_id": "https://github.com/fadeeva/probabilistic/blob/master/pymc/001.ipynb",
      "authorship_tag": "ABX9TyOoUiGx78k04Q5Cgw88iVHJ"
    },
    "kernelspec": {
      "name": "python3",
      "display_name": "Python 3"
    },
    "language_info": {
      "name": "python"
    }
  },
  "cells": [
    {
      "cell_type": "code",
      "execution_count": 1,
      "metadata": {
        "id": "Kah61Qw3cyz6"
      },
      "outputs": [],
      "source": [
        "import numpy as np\n",
        "import pandas as pd\n",
        "\n",
        "import scipy as sp\n",
        "import scipy.stats as stats\n",
        "\n",
        "import arviz as az\n",
        "import pymc as pm\n",
        "\n",
        "import matplotlib.pyplot as plt\n",
        "import seaborn as sns\n",
        "\n",
        "plt.style.use('ggplot')"
      ]
    },
    {
      "cell_type": "markdown",
      "source": [
        "## Data"
      ],
      "metadata": {
        "id": "We7-xCs-iSya"
      }
    },
    {
      "cell_type": "code",
      "source": [
        "import pickle as pk\n",
        "\n",
        "path = 'drive/MyDrive/DATA/'\n",
        "file_name = 'data_sharks.pickle'\n",
        "\n",
        "with open(path+file_name, 'rb') as f:\n",
        "    data = pk.load(f)\n",
        "\n",
        "data.keys()"
      ],
      "metadata": {
        "colab": {
          "base_uri": "https://localhost:8080/"
        },
        "id": "om8WIeyQlOyD",
        "outputId": "0e09e199-8401-4004-db0c-b1a14b3a188b"
      },
      "execution_count": 2,
      "outputs": [
        {
          "output_type": "execute_result",
          "data": {
            "text/plain": [
              "dict_keys(['hammerhead', 'mako', 'tiger_shark', 'great_white', 'megalodon'])"
            ]
          },
          "metadata": {},
          "execution_count": 2
        }
      ]
    },
    {
      "cell_type": "code",
      "source": [],
      "metadata": {
        "id": "wtqMMS2PEdOH"
      },
      "execution_count": null,
      "outputs": []
    },
    {
      "cell_type": "markdown",
      "source": [
        "## EDA"
      ],
      "metadata": {
        "id": "gzQjuTqtqUs9"
      }
    },
    {
      "cell_type": "code",
      "source": [],
      "metadata": {
        "id": "DSWkyj77Elsj"
      },
      "execution_count": null,
      "outputs": []
    }
  ]
}