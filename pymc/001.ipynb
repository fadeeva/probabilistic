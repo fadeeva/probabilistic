{
  "nbformat": 4,
  "nbformat_minor": 0,
  "metadata": {
    "colab": {
      "provenance": [],
      "mount_file_id": "1qCQi74xT3Aj7rsoXrtdrGAZkOB1iCl-1",
      "authorship_tag": "ABX9TyMyXzXeMdBxTmd9LvJ4hBr+"
    },
    "kernelspec": {
      "name": "python3",
      "display_name": "Python 3"
    },
    "language_info": {
      "name": "python"
    }
  },
  "cells": [
    {
      "cell_type": "code",
      "execution_count": 1,
      "metadata": {
        "id": "Kah61Qw3cyz6"
      },
      "outputs": [],
      "source": [
        "import numpy as np\n",
        "import pandas as pd\n",
        "\n",
        "import scipy as sp\n",
        "import scipy.stats as stats\n",
        "\n",
        "import arviz as az\n",
        "import pymc as pm\n",
        "\n",
        "import matplotlib.pyplot as plt\n",
        "import seaborn as sns"
      ]
    },
    {
      "cell_type": "markdown",
      "source": [
        "## Data"
      ],
      "metadata": {
        "id": "We7-xCs-iSya"
      }
    },
    {
      "cell_type": "code",
      "source": [
        "import zipfile, glob\n",
        "from pathlib import Path\n",
        "from urllib.request import urlretrieve\n",
        "from urllib.parse import urljoin"
      ],
      "metadata": {
        "id": "udMzNeuWlJB_"
      },
      "execution_count": 20,
      "outputs": []
    },
    {
      "cell_type": "code",
      "source": [
        "url = 'https://archive.ics.uci.edu/static/public/186/wine+quality.zip'\n",
        "data_path = Path('data')\n",
        "filename = data_path / url.split('/')[-1]\n",
        "\n",
        "if not data_path.exists():\n",
        "    print('Creating directory')\n",
        "    data_path.mkdir()\n",
        "if not filename.exists():\n",
        "    print('Downloading...', url)\n",
        "    urlretrieve(url, filename)\n",
        "\n",
        "if filename.exists():\n",
        "    extract_dir = 'data'\n",
        "    print('Extracting files...')\n",
        "    with zipfile.ZipFile(filename) as zf:\n",
        "        zf.extractall(extract_dir)\n",
        "    for file in glob.glob(extract_dir + '/**', recursive=True):\n",
        "        print(file)\n",
        "\n",
        "print('...DONE')"
      ],
      "metadata": {
        "colab": {
          "base_uri": "https://localhost:8080/"
        },
        "id": "om8WIeyQlOyD",
        "outputId": "050454e3-d6a0-4111-d207-905eb2bde645"
      },
      "execution_count": 22,
      "outputs": [
        {
          "output_type": "stream",
          "name": "stdout",
          "text": [
            "Extracting files...\n",
            "data/\n",
            "data/winequality-red.csv\n",
            "data/winequality.names\n",
            "data/winequality-white.csv\n",
            "data/wine+quality.zip\n",
            "...DONE\n"
          ]
        }
      ]
    },
    {
      "cell_type": "code",
      "source": [],
      "metadata": {
        "id": "gzQjuTqtqUs9"
      },
      "execution_count": null,
      "outputs": []
    }
  ]
}