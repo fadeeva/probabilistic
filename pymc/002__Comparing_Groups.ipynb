{
  "nbformat": 4,
  "nbformat_minor": 0,
  "metadata": {
    "colab": {
      "provenance": [],
      "mount_file_id": "https://github.com/fadeeva/probabilistic/blob/master/pymc/002__Comparing_Groups.ipynb",
      "authorship_tag": "ABX9TyO1HLEdfLM1ykwBpqKsdG5u"
    },
    "kernelspec": {
      "name": "python3",
      "display_name": "Python 3"
    },
    "language_info": {
      "name": "python"
    }
  },
  "cells": [
    {
      "cell_type": "markdown",
      "source": [
        "# Comparing Groups"
      ],
      "metadata": {
        "id": "pYYA8mpxxb8K"
      }
    },
    {
      "cell_type": "code",
      "execution_count": null,
      "metadata": {
        "id": "c-PYiyX5e4qc"
      },
      "outputs": [],
      "source": [
        "import numpy as np\n",
        "import pandas as pd\n",
        "\n",
        "import scipy as sp\n",
        "import scipy.stats as stats\n",
        "\n",
        "import arviz as az\n",
        "import pymc as pm\n",
        "\n",
        "import matplotlib.pyplot as plt\n",
        "import seaborn as sns\n",
        "\n",
        "plt.style.use('ggplot')"
      ]
    },
    {
      "cell_type": "markdown",
      "source": [
        "## Transactions from Blockchain"
      ],
      "metadata": {
        "id": "hUGgYjfa4Ocm"
      }
    },
    {
      "cell_type": "markdown",
      "source": [
        "### Data"
      ],
      "metadata": {
        "id": "uzxQR-__4WtE"
      }
    },
    {
      "cell_type": "code",
      "source": [
        "import pickle as pk\n",
        "\n",
        "path = 'drive/MyDrive/DATA/'\n",
        "file_name = 'data_sharks.pickle'\n",
        "\n",
        "with open(path+file_name, 'rb') as f:\n",
        "    data = pk.load(f)\n",
        "\n",
        "data.keys()"
      ],
      "metadata": {
        "id": "6nuP5gm84bo1"
      },
      "execution_count": null,
      "outputs": []
    },
    {
      "cell_type": "markdown",
      "source": [
        "### EDA"
      ],
      "metadata": {
        "id": "yKdGJw4e4sZ9"
      }
    },
    {
      "cell_type": "code",
      "source": [
        "outs_len = {key:[len(i) for i in data[key]['outs']] for key in data.keys()}\n",
        "inps_len = {key:[len(i) for i in data[key]['inputs']] for key in data.keys()}"
      ],
      "metadata": {
        "id": "JqlTHau04xqM"
      },
      "execution_count": null,
      "outputs": []
    },
    {
      "cell_type": "code",
      "source": [
        "fit, axs = plt.subplots(1, len(outs_len.keys()), figsize=(21, 3))\n",
        "\n",
        "for i, shark in enumerate(outs_len.keys()):\n",
        "    axs[i].violinplot(outs_len[shark], showmeans=True, showmedians=True)\n",
        "    axs[i].set_title(shark)\n"
      ],
      "metadata": {
        "id": "Z5Tf6wHv5Djf"
      },
      "execution_count": null,
      "outputs": []
    },
    {
      "cell_type": "markdown",
      "source": [
        "### Model"
      ],
      "metadata": {
        "id": "7xARoCwi5NZX"
      }
    },
    {
      "cell_type": "code",
      "source": [
        "outs = np.array([x for xs in list(outs_len.values()) for x in xs])\n",
        "categories_o = np.array(list(data.keys()))\n",
        "idx_o = pd.Categorical([key for key, val in outs_len.items() for i in val], categories_o).codes\n",
        "groups_o = len(np.unique(idx_o))"
      ],
      "metadata": {
        "id": "NeDaulBz5QbE"
      },
      "execution_count": null,
      "outputs": []
    },
    {
      "cell_type": "code",
      "source": [
        "with pm.Model() as comparing_outs:\n",
        "    μ = pm.HalfNormal('μ', sigma=5, shape=groups_o)\n",
        "    σ = pm.HalfNormal('σ', sigma=1, shape=groups_o)\n",
        "\n",
        "    y = pm.Gamma('y', mu=μ[idx_o], sigma=σ[idx_o], observed=outs)\n",
        "\n",
        "    idata_o = pm.sample()\n",
        "\n",
        "az.plot_trace(idata_o)"
      ],
      "metadata": {
        "id": "TDEFsxw15SsI"
      },
      "execution_count": null,
      "outputs": []
    },
    {
      "cell_type": "markdown",
      "source": [
        "## Close Prices"
      ],
      "metadata": {
        "id": "cQxQ1hj93U9k"
      }
    },
    {
      "cell_type": "markdown",
      "source": [
        "### Data"
      ],
      "metadata": {
        "id": "tz9gbnYNxFJx"
      }
    },
    {
      "cell_type": "code",
      "source": [
        "url = 'https://github.com/fadeeva/stock_market_research/raw/refs/heads/master/data/AAPL_IBM_MCD_2021-01-01_2022-12-31_1d.csv'\n",
        "df = pd.read_csv(url, header=[0, 1], parse_dates=True, index_col=0)\n",
        "df.head()"
      ],
      "metadata": {
        "id": "0_-QxWKwxaxx"
      },
      "execution_count": null,
      "outputs": []
    },
    {
      "cell_type": "code",
      "source": [
        "aapl = df['Close']['AAPL'].copy().to_numpy()\n",
        "ibm = df['Close']['IBM'].copy().to_numpy()\n",
        "mcd = df['Close']['MCD'].copy().to_numpy()\n",
        "\n",
        "mask = np.random.choice([False, True], len(aapl), p=[.6, .4])\n",
        "\n",
        "aapl_m = aapl[mask]\n",
        "ibm_m = ibm[mask]\n",
        "mcd_m = mcd[mask]"
      ],
      "metadata": {
        "id": "4puleb9IAclo"
      },
      "execution_count": null,
      "outputs": []
    },
    {
      "cell_type": "code",
      "source": [
        "df = df['Close']"
      ],
      "metadata": {
        "id": "WE1MWvCVxEsZ"
      },
      "execution_count": null,
      "outputs": []
    },
    {
      "cell_type": "code",
      "source": [
        "for ticker in df.columns:\n",
        "    df[f'{ticker}_returns'] = np.log(df[ticker] / df[ticker].shift(1))\n"
      ],
      "metadata": {
        "id": "AiTM9HpSxaDg"
      },
      "execution_count": null,
      "outputs": []
    },
    {
      "cell_type": "code",
      "source": [
        "df.dropna(axis=0, inplace=True)"
      ],
      "metadata": {
        "id": "QH3mnwwdyCHY"
      },
      "execution_count": null,
      "outputs": []
    },
    {
      "cell_type": "markdown",
      "source": [
        "### Model"
      ],
      "metadata": {
        "id": "t2iPda6r3RDM"
      }
    },
    {
      "cell_type": "code",
      "source": [
        "prices_group = []\n",
        "for ticker in ['AAPL', 'IBM', 'MCD']:\n",
        "    group = np.repeat(ticker, df.shape[0])\n",
        "    prices_group.extend(group)\n"
      ],
      "metadata": {
        "id": "N4h1n57S1nmG"
      },
      "execution_count": null,
      "outputs": []
    },
    {
      "cell_type": "code",
      "source": [
        "prices = df[['AAPL', 'IBM', 'MCD']].values.flatten('F')\n",
        "categories = np.array(['AAPL', 'IBM', 'MCD'])\n",
        "idx = pd.Categorical(prices_group, categories).codes\n",
        "groups = len(np.unique(idx))"
      ],
      "metadata": {
        "id": "ojPQf7NxyVyQ"
      },
      "execution_count": null,
      "outputs": []
    },
    {
      "cell_type": "code",
      "source": [
        "with pm.Model() as comparing_prices:\n",
        "    μ = pm.HalfNormal('μ', sigma=100, shape=groups)\n",
        "    σ = pm.HalfNormal('σ', sigma=100, shape=groups)\n",
        "\n",
        "    y = pm.Gamma('y', mu=μ[idx], sigma=σ[idx], observed=prices)\n",
        "\n",
        "    idata_cg = pm.sample()\n",
        "\n",
        "az.plot_trace(idata_cg)"
      ],
      "metadata": {
        "id": "xn4rkpDE0piE"
      },
      "execution_count": null,
      "outputs": []
    },
    {
      "cell_type": "code",
      "source": [],
      "metadata": {
        "id": "EE9vhX2H52-h"
      },
      "execution_count": null,
      "outputs": []
    }
  ]
}